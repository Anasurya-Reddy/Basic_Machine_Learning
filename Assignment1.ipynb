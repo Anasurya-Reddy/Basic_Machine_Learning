{
  "nbformat": 4,
  "nbformat_minor": 0,
  "metadata": {
    "colab": {
      "provenance": [],
      "authorship_tag": "ABX9TyNOJy6q6xTMV/w29oYPCXwG",
      "include_colab_link": true
    },
    "kernelspec": {
      "name": "python3",
      "display_name": "Python 3"
    },
    "language_info": {
      "name": "python"
    }
  },
  "cells": [
    {
      "cell_type": "markdown",
      "metadata": {
        "id": "view-in-github",
        "colab_type": "text"
      },
      "source": [
        "<a href=\"https://colab.research.google.com/github/Anasurya-Reddy/Basic_Machine_Learning/blob/main/Assignment1.ipynb\" target=\"_parent\"><img src=\"https://colab.research.google.com/assets/colab-badge.svg\" alt=\"Open In Colab\"/></a>"
      ]
    },
    {
      "cell_type": "markdown",
      "source": [
        "# ***Assignment-1***"
      ],
      "metadata": {
        "id": "mgzclVK7QMDd"
      }
    },
    {
      "cell_type": "code",
      "execution_count": null,
      "metadata": {
        "id": "fnloDmkZzO38"
      },
      "outputs": [],
      "source": [
        "import numpy as np"
      ]
    },
    {
      "cell_type": "markdown",
      "source": [
        "1. Perform arithmetic operations on NumPy arrays.\n"
      ],
      "metadata": {
        "id": "Palf62805HS_"
      }
    },
    {
      "cell_type": "code",
      "source": [
        "a = np.array([1,2,3])\n",
        "b = np.array([4,5,6])\n",
        "print(f'Sum = {np.add(a,b)}')\n",
        "print(f'Difference = {np.subtract(a,b)}')\n",
        "print(f'Product = {np.multiply(a,b)}')\n",
        "print(f'Division = {np.divide(a,b)}')\n",
        "print(f'Power = {np.power(a,b)}')\n",
        "print(f'Mod = {np.mod(a,b)}')"
      ],
      "metadata": {
        "colab": {
          "base_uri": "https://localhost:8080/"
        },
        "id": "Vz5k6FWd5KJu",
        "outputId": "a7cee11f-bd7a-4d46-fcf3-3807b52a58bf"
      },
      "execution_count": 43,
      "outputs": [
        {
          "output_type": "stream",
          "name": "stdout",
          "text": [
            "Sum = [5 7 9]\n",
            "Difference = [-3 -3 -3]\n",
            "Product = [ 4 10 18]\n",
            "Division = [0.25 0.4  0.5 ]\n",
            "Power = [  1  32 729]\n",
            "Mod = [1 2 3]\n"
          ]
        }
      ]
    },
    {
      "cell_type": "markdown",
      "source": [
        "2. Write a script to compute the mean and standard deviation of a NumPy array.\n"
      ],
      "metadata": {
        "id": "7GA884G95Kcz"
      }
    },
    {
      "cell_type": "code",
      "source": [
        "a = np.array([1,2,3])\n",
        "print(f'Mean = {np.mean(a)}')\n",
        "print(f'Standard Deviation = {np.std(a)}')"
      ],
      "metadata": {
        "colab": {
          "base_uri": "https://localhost:8080/"
        },
        "id": "IJHYvQKg5Kzx",
        "outputId": "68ef5bbf-91fe-44ac-e238-07fd9bc84fe0"
      },
      "execution_count": 44,
      "outputs": [
        {
          "output_type": "stream",
          "name": "stdout",
          "text": [
            "Mean = 2.0\n",
            "Standard Deviation = 0.816496580927726\n"
          ]
        }
      ]
    },
    {
      "cell_type": "markdown",
      "source": [
        "3. Create a NumPy array of integers from 10 to 50 with a step size of 5.\n"
      ],
      "metadata": {
        "id": "XV03EDYK5LBN"
      }
    },
    {
      "cell_type": "code",
      "source": [
        "s = np.array(range(10,50,5))\n",
        "print(f'Array = {s}')"
      ],
      "metadata": {
        "colab": {
          "base_uri": "https://localhost:8080/"
        },
        "id": "h8Hjqm1Y5LsW",
        "outputId": "68eaef56-7c71-4552-f58f-5062d9856665"
      },
      "execution_count": 46,
      "outputs": [
        {
          "output_type": "stream",
          "name": "stdout",
          "text": [
            "Array = [10 15 20 25 30 35 40 45]\n"
          ]
        }
      ]
    },
    {
      "cell_type": "markdown",
      "source": [
        "4. Reshape the array into a 2x4 matrix.\n"
      ],
      "metadata": {
        "id": "GW4uMgA45MDT"
      }
    },
    {
      "cell_type": "code",
      "source": [
        "print(f'Reshaped Array = {s.reshape(2,4)}')"
      ],
      "metadata": {
        "id": "T6jUfN7l5MWZ",
        "colab": {
          "base_uri": "https://localhost:8080/"
        },
        "outputId": "6d497c47-43f7-478d-ab42-3a4b0d1b82a4"
      },
      "execution_count": 45,
      "outputs": [
        {
          "output_type": "stream",
          "name": "stdout",
          "text": [
            "Reshaped Array = [[10 15 20 25]\n",
            " [30 35 40 45]]\n"
          ]
        }
      ]
    },
    {
      "cell_type": "markdown",
      "source": [
        "5. Given the array arr = np.array([[1, 2, 3], [4, 5, 6], [7, 8, 9]]):\n",
        "• Extract the sub-matrix containing the last two rows and first two columns.\n",
        "• Replace all elements greater than 4 with 0.\n"
      ],
      "metadata": {
        "id": "QrBLiZuk5Mkk"
      }
    },
    {
      "cell_type": "code",
      "source": [
        "arr = np.array([[1, 2, 3], [4, 5, 6], [7, 8, 9]])\n",
        "print(f'Sub matrix = {arr[1:,:2]}')\n",
        "arr[arr>4]=0\n",
        "print(f'Modified Array = {arr}')"
      ],
      "metadata": {
        "id": "dXP7v3Qc5gP7",
        "colab": {
          "base_uri": "https://localhost:8080/"
        },
        "outputId": "b4d96070-5213-4e5e-9022-bf183881a851"
      },
      "execution_count": 47,
      "outputs": [
        {
          "output_type": "stream",
          "name": "stdout",
          "text": [
            "Sub matrix = [[4 5]\n",
            " [7 8]]\n",
            "Modified Array = [[1 2 3]\n",
            " [4 0 0]\n",
            " [0 0 0]]\n"
          ]
        }
      ]
    },
    {
      "cell_type": "markdown",
      "source": [
        "6. Create two 1D arrays:\n",
        "• a = np.array([1, 2, 3])\n",
        "• b = np.array([4, 5, 6])\n",
        "• Perform element-wise addition, multiplication, and division.\n"
      ],
      "metadata": {
        "id": "P5LkLAvY5ge9"
      }
    },
    {
      "cell_type": "code",
      "source": [
        "a = np.array([1, 2, 3])\n",
        "b = np.array([4, 5, 6])\n",
        "print(f'Additon = {a+b}')\n",
        "print(f'Multiplication = {a*b}')\n",
        "print(f'Division = {a/b}')"
      ],
      "metadata": {
        "id": "rLPKNlz35g4f",
        "colab": {
          "base_uri": "https://localhost:8080/"
        },
        "outputId": "e2525378-749f-458e-b1eb-9b6e37c02895"
      },
      "execution_count": 48,
      "outputs": [
        {
          "output_type": "stream",
          "name": "stdout",
          "text": [
            "Additon = [5 7 9]\n",
            "Multiplicatio = [ 4 10 18]\n",
            "Division = [0.25 0.4  0.5 ]\n"
          ]
        }
      ]
    },
    {
      "cell_type": "markdown",
      "source": [
        "7. Create a random NumPy array of size (4, 4). Compute:\n",
        "• Mean of each column.\n",
        "• Maximum value of the entire array.\n",
        "• Sum of all elements.\n"
      ],
      "metadata": {
        "id": "OQtkhTD95hIt"
      }
    },
    {
      "cell_type": "code",
      "source": [
        "a = np.random.rand(4,4)\n",
        "print(f'Mean of Column = {np.mean(a,axis=0)}')\n",
        "print(f'Max value = {np.max(a)}')\n",
        "print(f'Sum = {np.sum(a)}')"
      ],
      "metadata": {
        "id": "61u_HWjf5hdJ",
        "colab": {
          "base_uri": "https://localhost:8080/"
        },
        "outputId": "615612c7-9c5e-464f-a5db-4d61c6637aab"
      },
      "execution_count": 50,
      "outputs": [
        {
          "output_type": "stream",
          "name": "stdout",
          "text": [
            "Mean of Column = [0.57960697 0.49414723 0.42493456 0.48390349]\n",
            "Max value = 0.94837862968959\n",
            "Sum = 7.930368971995566\n"
          ]
        }
      ]
    },
    {
      "cell_type": "markdown",
      "source": [
        "8. Given the array arr = np.array([1, 2, 3, 4]), add 10 to each element and multiply\n",
        "the result by 2.\n"
      ],
      "metadata": {
        "id": "SN-QLeKV5htb"
      }
    },
    {
      "cell_type": "code",
      "source": [
        "arr = np.array([1, 2, 3, 4])\n",
        "print(f'Modified Arr = {2*(arr+10)}')"
      ],
      "metadata": {
        "id": "t-MiM4cs5iDf",
        "colab": {
          "base_uri": "https://localhost:8080/"
        },
        "outputId": "d78cc819-3ae2-400a-ef7c-19de6c6ace92"
      },
      "execution_count": 51,
      "outputs": [
        {
          "output_type": "stream",
          "name": "stdout",
          "text": [
            "Modified Arr = [22 24 26 28]\n"
          ]
        }
      ]
    },
    {
      "cell_type": "markdown",
      "source": [
        "9. Perform advanced slicing and indexing on a 3D array.\n",
        "Create a 3D NumPy array arr of shape (3, 4, 5) with random integers ranging from\n",
        "1 to 100. Perform the following:\n",
        "• Extract the second \"layer\" (i.e., the second 2D array) in the first dimension.\n",
        "• Extract the first two rows and the last three columns from each \"layer.\"\n",
        "• Replace all elements divisible by 3 with -1.\n"
      ],
      "metadata": {
        "id": "NiBwk7Ru5rMq"
      }
    },
    {
      "cell_type": "code",
      "source": [
        "arr = np.random.randint(1,100,(3,4,5))\n",
        "print(f'Second 2D Arr = {arr[1]}')\n",
        "print(f'Sub Arr = {arr[0,:2,-3:]}')\n",
        "arr[arr%3==0]=-1\n",
        "print(f'Modified Arr = {arr}')"
      ],
      "metadata": {
        "id": "r28Bpobf5rc4",
        "colab": {
          "base_uri": "https://localhost:8080/"
        },
        "outputId": "2cb14bed-3f7c-4600-972c-77481631cf57"
      },
      "execution_count": 52,
      "outputs": [
        {
          "output_type": "stream",
          "name": "stdout",
          "text": [
            "Second 2D Arr = [[96 48 66 94 57]\n",
            " [61 89 69  5 41]\n",
            " [60 67  8 20  4]\n",
            " [38 34 22 75 77]]\n",
            "Sub Arr = [[21 60 45]\n",
            " [45 71 80]]\n",
            "Modified Arr = [[[44 53 -1 -1 -1]\n",
            "  [14 68 -1 71 80]\n",
            "  [49 91 49 16 50]\n",
            "  [ 7 80 70 -1  7]]\n",
            "\n",
            " [[-1 -1 -1 94 -1]\n",
            "  [61 89 -1  5 41]\n",
            "  [-1 67  8 20  4]\n",
            "  [38 34 22 -1 77]]\n",
            "\n",
            " [[-1 37 56 34 -1]\n",
            "  [94 -1 49 70 -1]\n",
            "  [73 46 91 37 92]\n",
            "  [-1 77 85 85 37]]]\n"
          ]
        }
      ]
    },
    {
      "cell_type": "markdown",
      "source": [
        "10. Work with broadcasting and advanced operations in NumPy.\n",
        " Create a NumPy array arr of shape (3, 3) with random integers between\n",
        " 1 and 20. Perform the following:\n",
        "• Subtract the mean of each row from its respective elements (row-wise\n",
        "normalization).\n",
        "• Create a new array by squaring all the elements in arr.\n",
        "• Find the indices of the top 3 maximum values in the entire array."
      ],
      "metadata": {
        "id": "grHTOsKS5r1B"
      }
    },
    {
      "cell_type": "code",
      "source": [
        "arr = np.random.randint(1,20,(3,3))\n",
        "print(f'Normalized Arr = {arr-np.mean(arr,axis=1,keepdims=True)}')\n",
        "sqa = np.square(arr)\n",
        "print(f'Square Arr = {sqa}')\n",
        "print(f'Max Indices = {np.argsort(arr.flatten())[-3:]}')"
      ],
      "metadata": {
        "id": "-P8c84Ph5sHm",
        "colab": {
          "base_uri": "https://localhost:8080/"
        },
        "outputId": "a6082584-5e99-4efc-f8d9-6beaea27836a"
      },
      "execution_count": 55,
      "outputs": [
        {
          "output_type": "stream",
          "name": "stdout",
          "text": [
            "Normalized Arr = [[  5.66666667  -6.33333333   0.66666667]\n",
            " [-10.33333333   5.66666667   4.66666667]\n",
            " [ -2.           2.           0.        ]]\n",
            "Square Arr = [[196   4  81]\n",
            " [  4 324 289]\n",
            " [196 324 256]]\n",
            "Max Indices = [5 4 7]\n"
          ]
        }
      ]
    }
  ]
}