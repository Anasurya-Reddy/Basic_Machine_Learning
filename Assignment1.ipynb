{
  "nbformat": 4,
  "nbformat_minor": 0,
  "metadata": {
    "colab": {
      "provenance": [],
      "authorship_tag": "ABX9TyMlzFmIDqz+p6DBLZ/u44rJ",
      "include_colab_link": true
    },
    "kernelspec": {
      "name": "python3",
      "display_name": "Python 3"
    },
    "language_info": {
      "name": "python"
    }
  },
  "cells": [
    {
      "cell_type": "markdown",
      "metadata": {
        "id": "view-in-github",
        "colab_type": "text"
      },
      "source": [
        "<a href=\"https://colab.research.google.com/github/Anasurya-Reddy/Basic_Machine_Learning/blob/main/Assignment1.ipynb\" target=\"_parent\"><img src=\"https://colab.research.google.com/assets/colab-badge.svg\" alt=\"Open In Colab\"/></a>"
      ]
    },
    {
      "cell_type": "code",
      "execution_count": null,
      "metadata": {
        "id": "fnloDmkZzO38"
      },
      "outputs": [],
      "source": [
        "import numpy as np"
      ]
    },
    {
      "cell_type": "markdown",
      "source": [
        "1. Perform arithmetic operations on NumPy arrays.\n"
      ],
      "metadata": {
        "id": "Palf62805HS_"
      }
    },
    {
      "cell_type": "code",
      "source": [
        "a =np.array([1,2,3])\n",
        "b =np.array([4,5,6])\n",
        "print(a+b)\n",
        "print(a-b)\n",
        "print(a*b)\n",
        "print(a/b)"
      ],
      "metadata": {
        "colab": {
          "base_uri": "https://localhost:8080/"
        },
        "id": "Vz5k6FWd5KJu",
        "outputId": "ad9e3cfe-47ff-4ebf-f86f-54d974a71735"
      },
      "execution_count": null,
      "outputs": [
        {
          "output_type": "stream",
          "name": "stdout",
          "text": [
            "[5 7 9]\n",
            "[-3 -3 -3]\n",
            "[ 4 10 18]\n",
            "[0.25 0.4  0.5 ]\n"
          ]
        }
      ]
    },
    {
      "cell_type": "markdown",
      "source": [
        "2. Write a script to compute the mean and standard deviation of a NumPy array.\n"
      ],
      "metadata": {
        "id": "7GA884G95Kcz"
      }
    },
    {
      "cell_type": "code",
      "source": [
        "print(np.mean(a))\n",
        "print(np.std(a))"
      ],
      "metadata": {
        "colab": {
          "base_uri": "https://localhost:8080/"
        },
        "id": "IJHYvQKg5Kzx",
        "outputId": "8807c366-bfb6-4130-8008-2785836929e7"
      },
      "execution_count": null,
      "outputs": [
        {
          "output_type": "stream",
          "name": "stdout",
          "text": [
            "2.0\n",
            "0.816496580927726\n"
          ]
        }
      ]
    },
    {
      "cell_type": "markdown",
      "source": [
        "3. Create a NumPy array of integers from 10 to 50 with a step size of 5.\n"
      ],
      "metadata": {
        "id": "XV03EDYK5LBN"
      }
    },
    {
      "cell_type": "code",
      "source": [
        "s = np.linspace(10,50,5)\n",
        "print(s)"
      ],
      "metadata": {
        "colab": {
          "base_uri": "https://localhost:8080/"
        },
        "id": "h8Hjqm1Y5LsW",
        "outputId": "4ee0ea7c-f764-4861-cc50-0cb4f92bf4c1"
      },
      "execution_count": null,
      "outputs": [
        {
          "output_type": "stream",
          "name": "stdout",
          "text": [
            "[10. 20. 30. 40. 50.]\n"
          ]
        }
      ]
    },
    {
      "cell_type": "markdown",
      "source": [
        "4. Reshape the array into a 2x4 matrix.\n"
      ],
      "metadata": {
        "id": "GW4uMgA45MDT"
      }
    },
    {
      "cell_type": "code",
      "source": [],
      "metadata": {
        "id": "T6jUfN7l5MWZ"
      },
      "execution_count": null,
      "outputs": []
    },
    {
      "cell_type": "markdown",
      "source": [
        "5. Given the array arr = np.array([[1, 2, 3], [4, 5, 6], [7, 8, 9]]):\n",
        "• Extract the sub-matrix containing the last two rows and first two columns.\n",
        "• Replace all elements greater than 4 with 0.\n"
      ],
      "metadata": {
        "id": "QrBLiZuk5Mkk"
      }
    },
    {
      "cell_type": "code",
      "source": [],
      "metadata": {
        "id": "dXP7v3Qc5gP7"
      },
      "execution_count": null,
      "outputs": []
    },
    {
      "cell_type": "markdown",
      "source": [
        "6. Create two 1D arrays:\n",
        "• a = np.array([1, 2, 3])\n",
        "• b = np.array([4, 5, 6])\n",
        "• Perform element-wise addition, multiplication, and division.\n"
      ],
      "metadata": {
        "id": "P5LkLAvY5ge9"
      }
    },
    {
      "cell_type": "code",
      "source": [],
      "metadata": {
        "id": "rLPKNlz35g4f"
      },
      "execution_count": null,
      "outputs": []
    },
    {
      "cell_type": "markdown",
      "source": [
        "7. Create a random NumPy array of size (4, 4). Compute:\n",
        "• Mean of each column.\n",
        "• Maximum value of the entire array.\n",
        "• Sum of all elements.\n"
      ],
      "metadata": {
        "id": "OQtkhTD95hIt"
      }
    },
    {
      "cell_type": "code",
      "source": [],
      "metadata": {
        "id": "61u_HWjf5hdJ"
      },
      "execution_count": null,
      "outputs": []
    },
    {
      "cell_type": "markdown",
      "source": [
        "8. Given the array arr = np.array([1, 2, 3, 4]), add 10 to each element and multiply\n",
        "the result by 2.\n"
      ],
      "metadata": {
        "id": "SN-QLeKV5htb"
      }
    },
    {
      "cell_type": "code",
      "source": [],
      "metadata": {
        "id": "t-MiM4cs5iDf"
      },
      "execution_count": null,
      "outputs": []
    },
    {
      "cell_type": "markdown",
      "source": [
        "9. Perform advanced slicing and indexing on a 3D array.\n",
        "Create a 3D NumPy array arr of shape (3, 4, 5) with random integers ranging from\n",
        "1 to 100. Perform the following:\n",
        "• Extract the second \"layer\" (i.e., the second 2D array) in the first dimension.\n",
        "• Extract the first two rows and the last three columns from each \"layer.\"\n",
        "• Replace all elements divisible by 3 with -1.\n"
      ],
      "metadata": {
        "id": "NiBwk7Ru5rMq"
      }
    },
    {
      "cell_type": "code",
      "source": [],
      "metadata": {
        "id": "r28Bpobf5rc4"
      },
      "execution_count": null,
      "outputs": []
    },
    {
      "cell_type": "markdown",
      "source": [
        "10. Work with broadcasting and advanced operations in NumPy.\n",
        " Create a NumPy array arr of shape (3, 3) with random integers between\n",
        " 1 and 20. Perform the following:\n",
        "• Subtract the mean of each row from its respective elements (row-wise\n",
        "normalization).\n",
        "• Create a new array by squaring all the elements in arr.\n",
        "• Find the indices of the top 3 maximum values in the entire array."
      ],
      "metadata": {
        "id": "grHTOsKS5r1B"
      }
    },
    {
      "cell_type": "code",
      "source": [],
      "metadata": {
        "id": "-P8c84Ph5sHm"
      },
      "execution_count": null,
      "outputs": []
    }
  ]
}